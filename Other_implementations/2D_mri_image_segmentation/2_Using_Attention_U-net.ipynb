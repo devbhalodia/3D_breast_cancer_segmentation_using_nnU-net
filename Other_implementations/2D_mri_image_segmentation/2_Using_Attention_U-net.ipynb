{
  "nbformat": 4,
  "nbformat_minor": 0,
  "metadata": {
    "colab": {
      "provenance": [],
      "gpuType": "T4"
    },
    "kernelspec": {
      "name": "python3",
      "display_name": "Python 3"
    },
    "language_info": {
      "name": "python"
    },
    "accelerator": "GPU"
  },
  "cells": [
    {
      "cell_type": "code",
      "execution_count": null,
      "metadata": {
        "id": "ek-7PiT3YZi7"
      },
      "outputs": [],
      "source": [
        "import os\n",
        "import numpy as np\n",
        "import tensorflow as tf\n",
        "from tensorflow.keras.layers import Input, Conv2D, MaxPooling2D, Dropout, concatenate, UpSampling2D, BatchNormalization, Multiply, Activation\n",
        "from tensorflow.keras.models import Model\n",
        "from tensorflow.keras.optimizers import Adam\n",
        "from tensorflow.keras.callbacks import ModelCheckpoint, EarlyStopping\n",
        "from tensorflow.keras.preprocessing.image import load_img, img_to_array\n",
        "from sklearn.model_selection import train_test_split\n",
        "import matplotlib.pyplot as plt"
      ]
    },
    {
      "cell_type": "code",
      "source": [
        "# paths\n",
        "from google.colab import drive\n",
        "drive.mount('/content/drive')\n",
        "mri_folder = '/content/drive/MyDrive/MRI/mri'\n",
        "mask_folder = '/content/drive/MyDrive/MRI/masks'"
      ],
      "metadata": {
        "colab": {
          "base_uri": "https://localhost:8080/"
        },
        "id": "Z66H-bR4Yb77",
        "outputId": "339bc4ed-6ffc-4bd9-8de5-d971c2e70e02"
      },
      "execution_count": null,
      "outputs": [
        {
          "output_type": "stream",
          "name": "stdout",
          "text": [
            "Mounted at /content/drive\n"
          ]
        }
      ]
    },
    {
      "cell_type": "code",
      "source": [
        "def load_images_and_masks(mri_folder, mask_folder, img_size=(256, 256)):\n",
        "    mri_images = []\n",
        "    mask_images = []\n",
        "\n",
        "    for mri_filename in os.listdir(mri_folder):\n",
        "        if mri_filename.endswith('.jpg'):\n",
        "            mri_path = os.path.join(mri_folder, mri_filename)\n",
        "            mask_path = os.path.join(mask_folder, mri_filename.replace('.jpg', '.png'))\n",
        "\n",
        "\n",
        "            mri_img = load_img(mri_path, color_mode='grayscale', target_size=img_size)\n",
        "            mri_img = img_to_array(mri_img) / 255.0\n",
        "\n",
        "\n",
        "            mask_img = load_img(mask_path, color_mode='grayscale', target_size=img_size)\n",
        "            mask_img = img_to_array(mask_img) / 255.0\n",
        "\n",
        "\n",
        "            mask_img = (mask_img > 0.5).astype(np.float32)\n",
        "\n",
        "            mri_images.append(mri_img)\n",
        "            mask_images.append(mask_img)\n",
        "\n",
        "    return np.array(mri_images), np.array(mask_images)"
      ],
      "metadata": {
        "id": "87_0QHCyYdol"
      },
      "execution_count": null,
      "outputs": []
    },
    {
      "cell_type": "code",
      "source": [
        "\n",
        "mri_images, mask_images = load_images_and_masks(mri_folder, mask_folder)\n",
        "\n",
        "\n",
        "X_train, X_val, y_train, y_val = train_test_split(mri_images, mask_images, test_size=0.2, random_state=42)"
      ],
      "metadata": {
        "id": "kyzMMiYwYgRB"
      },
      "execution_count": null,
      "outputs": []
    },
    {
      "cell_type": "code",
      "source": [
        "def attention_gate(F_g, F_l, inter_channels):\n",
        "    \"\"\"\n",
        "    F_g: result of upsampled layer\n",
        "    F_l: Feature map from the skip connection.\n",
        "    inter_channels: Intermediate number of channels.\n",
        "    \"\"\"\n",
        "    # Transforming result of upsampled layer\n",
        "    '''\n",
        "    here, the simple difference between F_g and W_g is that we are reducing the number of channels in W_g for faster\n",
        "    calculations and less computational load. say, if f_g had 512 channels, W_g will have 256 channels.\n",
        "    '''\n",
        "    W_g = Conv2D(inter_channels, kernel_size=1, strides=1, padding='same')(F_g)\n",
        "    W_g = BatchNormalization()(W_g)\n",
        "\n",
        "    # Transforming feature map\n",
        "    W_x = Conv2D(inter_channels, kernel_size=1, strides=1, padding='same')(F_l)\n",
        "    W_x = BatchNormalization()(W_x)\n",
        "\n",
        "    # Adding the transformations, using relu to keep only the positive values\n",
        "    psi = Activation('relu')(W_g + W_x)\n",
        "\n",
        "\n",
        "    psi = Conv2D(1, kernel_size=1, strides=1, padding='same')(psi) #reducing the psi channels to 1\n",
        "    psi = Activation('sigmoid')(psi) #converting values between 0s and 1s\n",
        "\n",
        "    # Applying attention gate to the feature map. psi is the map having only relevant features, and hence, when applied to\n",
        "    #the F_l, it will give us only the relevant features out of it.\n",
        "    return Multiply()([F_l, psi])"
      ],
      "metadata": {
        "id": "VVq5Gf61Yi_x"
      },
      "execution_count": null,
      "outputs": []
    },
    {
      "cell_type": "code",
      "source": [
        "def attention_unet(input_size=(256, 256, 1)):\n",
        "    inputs = Input(input_size)\n",
        "\n",
        "    # Downsample\n",
        "    conv1 = Conv2D(64, 3, activation='relu', padding='same')(inputs)\n",
        "    conv1 = BatchNormalization()(conv1)\n",
        "    conv1 = Conv2D(64, 3, activation='relu', padding='same')(conv1)\n",
        "    conv1 = BatchNormalization()(conv1)\n",
        "    pool1 = MaxPooling2D(pool_size=(2, 2))(conv1)\n",
        "\n",
        "    conv2 = Conv2D(128, 3, activation='relu', padding='same')(pool1)\n",
        "    conv2 = BatchNormalization()(conv2)\n",
        "    conv2 = Conv2D(128, 3, activation='relu', padding='same')(conv2)\n",
        "    conv2 = BatchNormalization()(conv2)\n",
        "    pool2 = MaxPooling2D(pool_size=(2, 2))(conv2)\n",
        "\n",
        "    conv3 = Conv2D(256, 3, activation='relu', padding='same')(pool2)\n",
        "    conv3 = BatchNormalization()(conv3)\n",
        "    conv3 = Conv2D(256, 3, activation='relu', padding='same')(conv3)\n",
        "    conv3 = BatchNormalization()(conv3)\n",
        "    pool3 = MaxPooling2D(pool_size=(2, 2))(conv3)\n",
        "\n",
        "    conv4 = Conv2D(512, 3, activation='relu', padding='same')(pool3)\n",
        "    conv4 = BatchNormalization()(conv4)\n",
        "    conv4 = Conv2D(512, 3, activation='relu', padding='same')(conv4)\n",
        "    conv4 = BatchNormalization()(conv4)\n",
        "    drop4 = Dropout(0.5)(conv4)\n",
        "    pool4 = MaxPooling2D(pool_size=(2, 2))(drop4)\n",
        "\n",
        "    # Bottleneck\n",
        "    conv5 = Conv2D(1024, 3, activation='relu', padding='same')(pool4)\n",
        "    conv5 = BatchNormalization()(conv5)\n",
        "    conv5 = Conv2D(1024, 3, activation='relu', padding='same')(conv5)\n",
        "    conv5 = BatchNormalization()(conv5)\n",
        "    drop5 = Dropout(0.5)(conv5)\n",
        "\n",
        "    # Upsample with Attention Gates\n",
        "    up6 = Conv2D(512, 2, activation='relu', padding='same')(UpSampling2D(size=(2, 2))(drop5))\n",
        "    att6 = attention_gate(up6, drop4, inter_channels=512)\n",
        "    merge6 = concatenate([att6, up6], axis=3)\n",
        "    conv6 = Conv2D(512, 3, activation='relu', padding='same')(merge6)\n",
        "    conv6 = BatchNormalization()(conv6)\n",
        "    conv6 = Conv2D(512, 3, activation='relu', padding='same')(conv6)\n",
        "    conv6 = BatchNormalization()(conv6)\n",
        "\n",
        "    up7 = Conv2D(256, 2, activation='relu', padding='same')(UpSampling2D(size=(2, 2))(conv6))\n",
        "    att7 = attention_gate(up7, conv3, inter_channels=256)\n",
        "    merge7 = concatenate([att7, up7], axis=3)\n",
        "    conv7 = Conv2D(256, 3, activation='relu', padding='same')(merge7)\n",
        "    conv7 = BatchNormalization()(conv7)\n",
        "    conv7 = Conv2D(256, 3, activation='relu', padding='same')(conv7)\n",
        "    conv7 = BatchNormalization()(conv7)\n",
        "\n",
        "    up8 = Conv2D(128, 2, activation='relu', padding='same')(UpSampling2D(size=(2, 2))(conv7))\n",
        "    att8 = attention_gate(up8, conv2, inter_channels=128)\n",
        "    merge8 = concatenate([att8, up8], axis=3)\n",
        "    conv8 = Conv2D(128, 3, activation='relu', padding='same')(merge8)\n",
        "    conv8 = BatchNormalization()(conv8)\n",
        "    conv8 = Conv2D(128, 3, activation='relu', padding='same')(conv8)\n",
        "    conv8 = BatchNormalization()(conv8)\n",
        "\n",
        "    up9 = Conv2D(64, 2, activation='relu', padding='same')(UpSampling2D(size=(2, 2))(conv8))\n",
        "    att9 = attention_gate(up9, conv1, inter_channels=64)\n",
        "    merge9 = concatenate([att9, up9], axis=3)\n",
        "    conv9 = Conv2D(64, 3, activation='relu', padding='same')(merge9)\n",
        "    conv9 = BatchNormalization()(conv9)\n",
        "    conv9 = Conv2D(64, 3, activation='relu', padding='same')(conv9)\n",
        "    conv9 = BatchNormalization()(conv9)\n",
        "\n",
        "    outputs = Conv2D(1, 1, activation='sigmoid')(conv9)\n",
        "\n",
        "    model = Model(inputs, outputs)\n",
        "    return model\n",
        "\n",
        "\n",
        "model = attention_unet()"
      ],
      "metadata": {
        "id": "WaHOCoWsYlGt"
      },
      "execution_count": null,
      "outputs": []
    },
    {
      "cell_type": "code",
      "source": [
        "import tensorflow as tf\n",
        "from tensorflow.keras.optimizers import Adam\n",
        "from tensorflow.keras import backend as K\n",
        "\n",
        "# Dice Score Metric\n",
        "def dice_score(y_true, y_pred, smooth=1e-6):\n",
        "    y_true_f = K.flatten(y_true)\n",
        "    y_pred_f = K.flatten(tf.round(y_pred))  # Round to get binary values\n",
        "    intersection = K.sum(y_true_f * y_pred_f)\n",
        "    return (2. * intersection + smooth) / (K.sum(y_true_f) + K.sum(y_pred_f) + smooth)\n",
        "\n",
        "# PPV (Precision / Positive Predictive Value)\n",
        "def ppv(y_true, y_pred, smooth=1e-6):\n",
        "    y_true_f = K.flatten(y_true)\n",
        "    y_pred_f = K.flatten(tf.round(y_pred))\n",
        "    true_positives = K.sum(y_true_f * y_pred_f)\n",
        "    predicted_positives = K.sum(y_pred_f)\n",
        "    return (true_positives + smooth) / (predicted_positives + smooth)\n",
        "\n",
        "# Compile the model\n",
        "model.compile(\n",
        "    optimizer=Adam(learning_rate=1e-5),\n",
        "    loss='binary_crossentropy',\n",
        "    metrics=[\n",
        "        'accuracy',\n",
        "        tf.keras.metrics.MeanIoU(num_classes=2),\n",
        "        dice_score,\n",
        "        ppv\n",
        "    ]\n",
        ")\n"
      ],
      "metadata": {
        "id": "N9jC5ZbkYpCg"
      },
      "execution_count": null,
      "outputs": []
    },
    {
      "cell_type": "code",
      "source": [
        "checkpoint = ModelCheckpoint('attention_unet_bce.h5', monitor='val_mean_io_u', mode='max', save_best_only=True)\n",
        "early_stopping = EarlyStopping(monitor='val_mean_io_u', mode='max', patience=10, restore_best_weights=True)"
      ],
      "metadata": {
        "id": "6sl7UIZ2Yq8V"
      },
      "execution_count": null,
      "outputs": []
    },
    {
      "cell_type": "code",
      "source": [
        "\n",
        "#class_weights = {0: 1.0, 1: 10.0}\n",
        "history = model.fit(X_train, y_train,\n",
        "                    validation_data=(X_val, y_val),\n",
        "                    epochs=100,\n",
        "                    batch_size=8,\n",
        "                    #class_weight=class_weights,\n",
        "                    callbacks=[checkpoint, early_stopping])"
      ],
      "metadata": {
        "colab": {
          "base_uri": "https://localhost:8080/"
        },
        "id": "iVfZyYYqYrju",
        "outputId": "b8357e69-647e-467d-e899-a2234786f3dc"
      },
      "execution_count": null,
      "outputs": [
        {
          "output_type": "stream",
          "name": "stdout",
          "text": [
            "Epoch 1/100\n",
            "\u001b[1m60/60\u001b[0m \u001b[32m━━━━━━━━━━━━━━━━━━━━\u001b[0m\u001b[37m\u001b[0m \u001b[1m0s\u001b[0m 657ms/step - accuracy: 0.9976 - dice_score: 0.6503 - loss: 0.5118 - mean_io_u: 0.9107 - ppv: 0.5018"
          ]
        },
        {
          "output_type": "stream",
          "name": "stderr",
          "text": [
            "WARNING:absl:You are saving your model as an HDF5 file via `model.save()` or `keras.saving.save_model(model)`. This file format is considered legacy. We recommend using instead the native Keras format, e.g. `model.save('my_model.keras')` or `keras.saving.save_model(model, 'my_model.keras')`. \n"
          ]
        },
        {
          "output_type": "stream",
          "name": "stdout",
          "text": [
            "\b\b\b\b\b\b\b\b\b\b\b\b\b\b\b\b\b\b\b\b\b\b\b\b\b\b\b\b\b\b\b\b\b\b\b\b\b\b\b\b\b\b\b\b\b\b\b\b\b\b\b\b\b\b\b\b\b\b\b\b\b\b\b\b\b\b\b\b\b\b\b\b\b\b\b\b\b\b\b\b\b\b\b\b\b\b\b\b\b\b\b\b\b\b\b\b\b\b\b\b\b\b\b\b\b\b\b\b\b\b\b\b\b\b\b\b\b\b\b\b\b\b\b\b\b\b\b\b\b\r\u001b[1m60/60\u001b[0m \u001b[32m━━━━━━━━━━━━━━━━━━━━\u001b[0m\u001b[37m\u001b[0m \u001b[1m50s\u001b[0m 830ms/step - accuracy: 0.9976 - dice_score: 0.6506 - loss: 0.5117 - mean_io_u: 0.9108 - ppv: 0.5022 - val_accuracy: 0.9977 - val_dice_score: 0.6558 - val_loss: 0.4885 - val_mean_io_u: 0.8996 - val_ppv: 0.5008\n",
            "Epoch 2/100\n",
            "\u001b[1m60/60\u001b[0m \u001b[32m━━━━━━━━━━━━━━━━━━━━\u001b[0m\u001b[37m\u001b[0m \u001b[1m0s\u001b[0m 650ms/step - accuracy: 0.9976 - dice_score: 0.6634 - loss: 0.5085 - mean_io_u: 0.9158 - ppv: 0.5210"
          ]
        },
        {
          "output_type": "stream",
          "name": "stderr",
          "text": [
            "WARNING:absl:You are saving your model as an HDF5 file via `model.save()` or `keras.saving.save_model(model)`. This file format is considered legacy. We recommend using instead the native Keras format, e.g. `model.save('my_model.keras')` or `keras.saving.save_model(model, 'my_model.keras')`. \n"
          ]
        },
        {
          "output_type": "stream",
          "name": "stdout",
          "text": [
            "\b\b\b\b\b\b\b\b\b\b\b\b\b\b\b\b\b\b\b\b\b\b\b\b\b\b\b\b\b\b\b\b\b\b\b\b\b\b\b\b\b\b\b\b\b\b\b\b\b\b\b\b\b\b\b\b\b\b\b\b\b\b\b\b\b\b\b\b\b\b\b\b\b\b\b\b\b\b\b\b\b\b\b\b\b\b\b\b\b\b\b\b\b\b\b\b\b\b\b\b\b\b\b\b\b\b\b\b\b\b\b\b\b\b\b\b\b\b\b\b\b\b\b\b\b\b\b\b\b\r\u001b[1m60/60\u001b[0m \u001b[32m━━━━━━━━━━━━━━━━━━━━\u001b[0m\u001b[37m\u001b[0m \u001b[1m77s\u001b[0m 748ms/step - accuracy: 0.9976 - dice_score: 0.6635 - loss: 0.5085 - mean_io_u: 0.9158 - ppv: 0.5211 - val_accuracy: 0.9975 - val_dice_score: 0.6398 - val_loss: 0.4866 - val_mean_io_u: 0.8997 - val_ppv: 0.4826\n",
            "Epoch 3/100\n",
            "\u001b[1m60/60\u001b[0m \u001b[32m━━━━━━━━━━━━━━━━━━━━\u001b[0m\u001b[37m\u001b[0m \u001b[1m79s\u001b[0m 703ms/step - accuracy: 0.9978 - dice_score: 0.6833 - loss: 0.5009 - mean_io_u: 0.9205 - ppv: 0.5398 - val_accuracy: 0.9979 - val_dice_score: 0.6741 - val_loss: 0.4764 - val_mean_io_u: 0.8990 - val_ppv: 0.5233\n",
            "Epoch 4/100\n",
            "\u001b[1m60/60\u001b[0m \u001b[32m━━━━━━━━━━━━━━━━━━━━\u001b[0m\u001b[37m\u001b[0m \u001b[1m82s\u001b[0m 704ms/step - accuracy: 0.9981 - dice_score: 0.6986 - loss: 0.5004 - mean_io_u: 0.9204 - ppv: 0.5570 - val_accuracy: 0.9978 - val_dice_score: 0.6700 - val_loss: 0.4755 - val_mean_io_u: 0.8920 - val_ppv: 0.5197\n",
            "Epoch 5/100\n",
            "\u001b[1m60/60\u001b[0m \u001b[32m━━━━━━━━━━━━━━━━━━━━\u001b[0m\u001b[37m\u001b[0m \u001b[1m0s\u001b[0m 650ms/step - accuracy: 0.9981 - dice_score: 0.7077 - loss: 0.4943 - mean_io_u: 0.9247 - ppv: 0.5653"
          ]
        },
        {
          "output_type": "stream",
          "name": "stderr",
          "text": [
            "WARNING:absl:You are saving your model as an HDF5 file via `model.save()` or `keras.saving.save_model(model)`. This file format is considered legacy. We recommend using instead the native Keras format, e.g. `model.save('my_model.keras')` or `keras.saving.save_model(model, 'my_model.keras')`. \n"
          ]
        },
        {
          "output_type": "stream",
          "name": "stdout",
          "text": [
            "\b\b\b\b\b\b\b\b\b\b\b\b\b\b\b\b\b\b\b\b\b\b\b\b\b\b\b\b\b\b\b\b\b\b\b\b\b\b\b\b\b\b\b\b\b\b\b\b\b\b\b\b\b\b\b\b\b\b\b\b\b\b\b\b\b\b\b\b\b\b\b\b\b\b\b\b\b\b\b\b\b\b\b\b\b\b\b\b\b\b\b\b\b\b\b\b\b\b\b\b\b\b\b\b\b\b\b\b\b\b\b\b\b\b\b\b\b\b\b\b\b\b\b\b\b\b\b\b\b\r\u001b[1m60/60\u001b[0m \u001b[32m━━━━━━━━━━━━━━━━━━━━\u001b[0m\u001b[37m\u001b[0m \u001b[1m86s\u001b[0m 765ms/step - accuracy: 0.9981 - dice_score: 0.7076 - loss: 0.4943 - mean_io_u: 0.9246 - ppv: 0.5653 - val_accuracy: 0.9979 - val_dice_score: 0.6767 - val_loss: 0.4765 - val_mean_io_u: 0.9049 - val_ppv: 0.5225\n",
            "Epoch 6/100\n",
            "\u001b[1m60/60\u001b[0m \u001b[32m━━━━━━━━━━━━━━━━━━━━\u001b[0m\u001b[37m\u001b[0m \u001b[1m0s\u001b[0m 652ms/step - accuracy: 0.9981 - dice_score: 0.7017 - loss: 0.4935 - mean_io_u: 0.9182 - ppv: 0.5601"
          ]
        },
        {
          "output_type": "stream",
          "name": "stderr",
          "text": [
            "WARNING:absl:You are saving your model as an HDF5 file via `model.save()` or `keras.saving.save_model(model)`. This file format is considered legacy. We recommend using instead the native Keras format, e.g. `model.save('my_model.keras')` or `keras.saving.save_model(model, 'my_model.keras')`. \n"
          ]
        },
        {
          "output_type": "stream",
          "name": "stdout",
          "text": [
            "\b\b\b\b\b\b\b\b\b\b\b\b\b\b\b\b\b\b\b\b\b\b\b\b\b\b\b\b\b\b\b\b\b\b\b\b\b\b\b\b\b\b\b\b\b\b\b\b\b\b\b\b\b\b\b\b\b\b\b\b\b\b\b\b\b\b\b\b\b\b\b\b\b\b\b\b\b\b\b\b\b\b\b\b\b\b\b\b\b\b\b\b\b\b\b\b\b\b\b\b\b\b\b\b\b\b\b\b\b\b\b\b\b\b\b\b\b\b\b\b\b\b\b\b\b\b\b\b\b\r\u001b[1m60/60\u001b[0m \u001b[32m━━━━━━━━━━━━━━━━━━━━\u001b[0m\u001b[37m\u001b[0m \u001b[1m84s\u001b[0m 800ms/step - accuracy: 0.9981 - dice_score: 0.7020 - loss: 0.4934 - mean_io_u: 0.9182 - ppv: 0.5604 - val_accuracy: 0.9979 - val_dice_score: 0.6854 - val_loss: 0.4719 - val_mean_io_u: 0.9078 - val_ppv: 0.5332\n",
            "Epoch 7/100\n",
            "\u001b[1m60/60\u001b[0m \u001b[32m━━━━━━━━━━━━━━━━━━━━\u001b[0m\u001b[37m\u001b[0m \u001b[1m78s\u001b[0m 737ms/step - accuracy: 0.9983 - dice_score: 0.7264 - loss: 0.4885 - mean_io_u: 0.9252 - ppv: 0.5904 - val_accuracy: 0.9977 - val_dice_score: 0.6635 - val_loss: 0.4635 - val_mean_io_u: 0.9031 - val_ppv: 0.5091\n",
            "Epoch 8/100\n",
            "\u001b[1m60/60\u001b[0m \u001b[32m━━━━━━━━━━━━━━━━━━━━\u001b[0m\u001b[37m\u001b[0m \u001b[1m0s\u001b[0m 633ms/step - accuracy: 0.9981 - dice_score: 0.7136 - loss: 0.4839 - mean_io_u: 0.9259 - ppv: 0.5740"
          ]
        },
        {
          "output_type": "stream",
          "name": "stderr",
          "text": [
            "WARNING:absl:You are saving your model as an HDF5 file via `model.save()` or `keras.saving.save_model(model)`. This file format is considered legacy. We recommend using instead the native Keras format, e.g. `model.save('my_model.keras')` or `keras.saving.save_model(model, 'my_model.keras')`. \n"
          ]
        },
        {
          "output_type": "stream",
          "name": "stdout",
          "text": [
            "\b\b\b\b\b\b\b\b\b\b\b\b\b\b\b\b\b\b\b\b\b\b\b\b\b\b\b\b\b\b\b\b\b\b\b\b\b\b\b\b\b\b\b\b\b\b\b\b\b\b\b\b\b\b\b\b\b\b\b\b\b\b\b\b\b\b\b\b\b\b\b\b\b\b\b\b\b\b\b\b\b\b\b\b\b\b\b\b\b\b\b\b\b\b\b\b\b\b\b\b\b\b\b\b\b\b\b\b\b\b\b\b\b\b\b\b\b\b\b\b\b\b\b\b\b\b\b\b\b\r\u001b[1m60/60\u001b[0m \u001b[32m━━━━━━━━━━━━━━━━━━━━\u001b[0m\u001b[37m\u001b[0m \u001b[1m49s\u001b[0m 819ms/step - accuracy: 0.9982 - dice_score: 0.7139 - loss: 0.4839 - mean_io_u: 0.9259 - ppv: 0.5743 - val_accuracy: 0.9980 - val_dice_score: 0.6909 - val_loss: 0.4636 - val_mean_io_u: 0.9088 - val_ppv: 0.5399\n",
            "Epoch 9/100\n",
            "\u001b[1m60/60\u001b[0m \u001b[32m━━━━━━━━━━━━━━━━━━━━\u001b[0m\u001b[37m\u001b[0m \u001b[1m75s\u001b[0m 707ms/step - accuracy: 0.9983 - dice_score: 0.7333 - loss: 0.4800 - mean_io_u: 0.9275 - ppv: 0.5978 - val_accuracy: 0.9981 - val_dice_score: 0.6969 - val_loss: 0.4602 - val_mean_io_u: 0.9046 - val_ppv: 0.5480\n",
            "Epoch 10/100\n",
            "\u001b[1m60/60\u001b[0m \u001b[32m━━━━━━━━━━━━━━━━━━━━\u001b[0m\u001b[37m\u001b[0m \u001b[1m82s\u001b[0m 703ms/step - accuracy: 0.9984 - dice_score: 0.7546 - loss: 0.4739 - mean_io_u: 0.9302 - ppv: 0.6252 - val_accuracy: 0.9982 - val_dice_score: 0.7091 - val_loss: 0.4546 - val_mean_io_u: 0.9039 - val_ppv: 0.5633\n",
            "Epoch 11/100\n",
            "\u001b[1m60/60\u001b[0m \u001b[32m━━━━━━━━━━━━━━━━━━━━\u001b[0m\u001b[37m\u001b[0m \u001b[1m0s\u001b[0m 651ms/step - accuracy: 0.9984 - dice_score: 0.7478 - loss: 0.4703 - mean_io_u: 0.9314 - ppv: 0.6188"
          ]
        },
        {
          "output_type": "stream",
          "name": "stderr",
          "text": [
            "WARNING:absl:You are saving your model as an HDF5 file via `model.save()` or `keras.saving.save_model(model)`. This file format is considered legacy. We recommend using instead the native Keras format, e.g. `model.save('my_model.keras')` or `keras.saving.save_model(model, 'my_model.keras')`. \n"
          ]
        },
        {
          "output_type": "stream",
          "name": "stdout",
          "text": [
            "\b\b\b\b\b\b\b\b\b\b\b\b\b\b\b\b\b\b\b\b\b\b\b\b\b\b\b\b\b\b\b\b\b\b\b\b\b\b\b\b\b\b\b\b\b\b\b\b\b\b\b\b\b\b\b\b\b\b\b\b\b\b\b\b\b\b\b\b\b\b\b\b\b\b\b\b\b\b\b\b\b\b\b\b\b\b\b\b\b\b\b\b\b\b\b\b\b\b\b\b\b\b\b\b\b\b\b\b\b\b\b\b\b\b\b\b\b\b\b\b\b\b\b\b\b\b\b\b\b\r\u001b[1m60/60\u001b[0m \u001b[32m━━━━━━━━━━━━━━━━━━━━\u001b[0m\u001b[37m\u001b[0m \u001b[1m84s\u001b[0m 736ms/step - accuracy: 0.9984 - dice_score: 0.7478 - loss: 0.4704 - mean_io_u: 0.9313 - ppv: 0.6188 - val_accuracy: 0.9982 - val_dice_score: 0.7132 - val_loss: 0.4488 - val_mean_io_u: 0.9089 - val_ppv: 0.5670\n",
            "Epoch 12/100\n",
            "\u001b[1m60/60\u001b[0m \u001b[32m━━━━━━━━━━━━━━━━━━━━\u001b[0m\u001b[37m\u001b[0m \u001b[1m82s\u001b[0m 737ms/step - accuracy: 0.9985 - dice_score: 0.7437 - loss: 0.4717 - mean_io_u: 0.9250 - ppv: 0.6152 - val_accuracy: 0.9986 - val_dice_score: 0.7571 - val_loss: 0.4487 - val_mean_io_u: 0.9085 - val_ppv: 0.6272\n",
            "Epoch 13/100\n",
            "\u001b[1m60/60\u001b[0m \u001b[32m━━━━━━━━━━━━━━━━━━━━\u001b[0m\u001b[37m\u001b[0m \u001b[1m0s\u001b[0m 644ms/step - accuracy: 0.9987 - dice_score: 0.7872 - loss: 0.4616 - mean_io_u: 0.9343 - ppv: 0.6700"
          ]
        },
        {
          "output_type": "stream",
          "name": "stderr",
          "text": [
            "WARNING:absl:You are saving your model as an HDF5 file via `model.save()` or `keras.saving.save_model(model)`. This file format is considered legacy. We recommend using instead the native Keras format, e.g. `model.save('my_model.keras')` or `keras.saving.save_model(model, 'my_model.keras')`. \n"
          ]
        },
        {
          "output_type": "stream",
          "name": "stdout",
          "text": [
            "\b\b\b\b\b\b\b\b\b\b\b\b\b\b\b\b\b\b\b\b\b\b\b\b\b\b\b\b\b\b\b\b\b\b\b\b\b\b\b\b\b\b\b\b\b\b\b\b\b\b\b\b\b\b\b\b\b\b\b\b\b\b\b\b\b\b\b\b\b\b\b\b\b\b\b\b\b\b\b\b\b\b\b\b\b\b\b\b\b\b\b\b\b\b\b\b\b\b\b\b\b\b\b\b\b\b\b\b\b\b\b\b\b\b\b\b\b\b\b\b\b\b\b\b\b\b\b\b\b\r\u001b[1m60/60\u001b[0m \u001b[32m━━━━━━━━━━━━━━━━━━━━\u001b[0m\u001b[37m\u001b[0m \u001b[1m88s\u001b[0m 835ms/step - accuracy: 0.9987 - dice_score: 0.7868 - loss: 0.4616 - mean_io_u: 0.9342 - ppv: 0.6696 - val_accuracy: 0.9983 - val_dice_score: 0.7238 - val_loss: 0.4513 - val_mean_io_u: 0.9122 - val_ppv: 0.5802\n",
            "Epoch 14/100\n",
            "\u001b[1m60/60\u001b[0m \u001b[32m━━━━━━━━━━━━━━━━━━━━\u001b[0m\u001b[37m\u001b[0m \u001b[1m41s\u001b[0m 687ms/step - accuracy: 0.9986 - dice_score: 0.7685 - loss: 0.4617 - mean_io_u: 0.9309 - ppv: 0.6466 - val_accuracy: 0.9985 - val_dice_score: 0.7426 - val_loss: 0.4426 - val_mean_io_u: 0.9086 - val_ppv: 0.6061\n",
            "Epoch 15/100\n",
            "\u001b[1m60/60\u001b[0m \u001b[32m━━━━━━━━━━━━━━━━━━━━\u001b[0m\u001b[37m\u001b[0m \u001b[1m83s\u001b[0m 704ms/step - accuracy: 0.9986 - dice_score: 0.7624 - loss: 0.4601 - mean_io_u: 0.9314 - ppv: 0.6356 - val_accuracy: 0.9984 - val_dice_score: 0.7341 - val_loss: 0.4443 - val_mean_io_u: 0.9111 - val_ppv: 0.5933\n",
            "Epoch 16/100\n",
            "\u001b[1m60/60\u001b[0m \u001b[32m━━━━━━━━━━━━━━━━━━━━\u001b[0m\u001b[37m\u001b[0m \u001b[1m0s\u001b[0m 651ms/step - accuracy: 0.9987 - dice_score: 0.7894 - loss: 0.4540 - mean_io_u: 0.9329 - ppv: 0.6741"
          ]
        },
        {
          "output_type": "stream",
          "name": "stderr",
          "text": [
            "WARNING:absl:You are saving your model as an HDF5 file via `model.save()` or `keras.saving.save_model(model)`. This file format is considered legacy. We recommend using instead the native Keras format, e.g. `model.save('my_model.keras')` or `keras.saving.save_model(model, 'my_model.keras')`. \n"
          ]
        },
        {
          "output_type": "stream",
          "name": "stdout",
          "text": [
            "\b\b\b\b\b\b\b\b\b\b\b\b\b\b\b\b\b\b\b\b\b\b\b\b\b\b\b\b\b\b\b\b\b\b\b\b\b\b\b\b\b\b\b\b\b\b\b\b\b\b\b\b\b\b\b\b\b\b\b\b\b\b\b\b\b\b\b\b\b\b\b\b\b\b\b\b\b\b\b\b\b\b\b\b\b\b\b\b\b\b\b\b\b\b\b\b\b\b\b\b\b\b\b\b\b\b\b\b\b\b\b\b\b\b\b\b\b\b\b\b\b\b\b\b\b\b\b\b\b\r\u001b[1m60/60\u001b[0m \u001b[32m━━━━━━━━━━━━━━━━━━━━\u001b[0m\u001b[37m\u001b[0m \u001b[1m89s\u001b[0m 822ms/step - accuracy: 0.9987 - dice_score: 0.7893 - loss: 0.4540 - mean_io_u: 0.9329 - ppv: 0.6741 - val_accuracy: 0.9985 - val_dice_score: 0.7511 - val_loss: 0.4396 - val_mean_io_u: 0.9126 - val_ppv: 0.6180\n",
            "Epoch 17/100\n",
            "\u001b[1m60/60\u001b[0m \u001b[32m━━━━━━━━━━━━━━━━━━━━\u001b[0m\u001b[37m\u001b[0m \u001b[1m77s\u001b[0m 738ms/step - accuracy: 0.9987 - dice_score: 0.7875 - loss: 0.4516 - mean_io_u: 0.9299 - ppv: 0.6720 - val_accuracy: 0.9980 - val_dice_score: 0.6912 - val_loss: 0.4396 - val_mean_io_u: 0.9063 - val_ppv: 0.5381\n",
            "Epoch 18/100\n",
            "\u001b[1m60/60\u001b[0m \u001b[32m━━━━━━━━━━━━━━━━━━━━\u001b[0m\u001b[37m\u001b[0m \u001b[1m0s\u001b[0m 651ms/step - accuracy: 0.9987 - dice_score: 0.7793 - loss: 0.4489 - mean_io_u: 0.9252 - ppv: 0.6671"
          ]
        },
        {
          "output_type": "stream",
          "name": "stderr",
          "text": [
            "WARNING:absl:You are saving your model as an HDF5 file via `model.save()` or `keras.saving.save_model(model)`. This file format is considered legacy. We recommend using instead the native Keras format, e.g. `model.save('my_model.keras')` or `keras.saving.save_model(model, 'my_model.keras')`. \n"
          ]
        },
        {
          "output_type": "stream",
          "name": "stdout",
          "text": [
            "\b\b\b\b\b\b\b\b\b\b\b\b\b\b\b\b\b\b\b\b\b\b\b\b\b\b\b\b\b\b\b\b\b\b\b\b\b\b\b\b\b\b\b\b\b\b\b\b\b\b\b\b\b\b\b\b\b\b\b\b\b\b\b\b\b\b\b\b\b\b\b\b\b\b\b\b\b\b\b\b\b\b\b\b\b\b\b\b\b\b\b\b\b\b\b\b\b\b\b\b\b\b\b\b\b\b\b\b\b\b\b\b\b\b\b\b\b\b\b\b\b\b\b\b\b\b\b\b\b\r\u001b[1m60/60\u001b[0m \u001b[32m━━━━━━━━━━━━━━━━━━━━\u001b[0m\u001b[37m\u001b[0m \u001b[1m87s\u001b[0m 829ms/step - accuracy: 0.9987 - dice_score: 0.7795 - loss: 0.4489 - mean_io_u: 0.9253 - ppv: 0.6672 - val_accuracy: 0.9985 - val_dice_score: 0.7537 - val_loss: 0.4396 - val_mean_io_u: 0.9137 - val_ppv: 0.6199\n",
            "Epoch 19/100\n",
            "\u001b[1m60/60\u001b[0m \u001b[32m━━━━━━━━━━━━━━━━━━━━\u001b[0m\u001b[37m\u001b[0m \u001b[1m76s\u001b[0m 736ms/step - accuracy: 0.9989 - dice_score: 0.8072 - loss: 0.4430 - mean_io_u: 0.9372 - ppv: 0.6977 - val_accuracy: 0.9983 - val_dice_score: 0.7222 - val_loss: 0.4343 - val_mean_io_u: 0.9120 - val_ppv: 0.5786\n",
            "Epoch 20/100\n",
            "\u001b[1m60/60\u001b[0m \u001b[32m━━━━━━━━━━━━━━━━━━━━\u001b[0m\u001b[37m\u001b[0m \u001b[1m0s\u001b[0m 652ms/step - accuracy: 0.9987 - dice_score: 0.7797 - loss: 0.4425 - mean_io_u: 0.9328 - ppv: 0.6629"
          ]
        },
        {
          "output_type": "stream",
          "name": "stderr",
          "text": [
            "WARNING:absl:You are saving your model as an HDF5 file via `model.save()` or `keras.saving.save_model(model)`. This file format is considered legacy. We recommend using instead the native Keras format, e.g. `model.save('my_model.keras')` or `keras.saving.save_model(model, 'my_model.keras')`. \n"
          ]
        },
        {
          "output_type": "stream",
          "name": "stdout",
          "text": [
            "\b\b\b\b\b\b\b\b\b\b\b\b\b\b\b\b\b\b\b\b\b\b\b\b\b\b\b\b\b\b\b\b\b\b\b\b\b\b\b\b\b\b\b\b\b\b\b\b\b\b\b\b\b\b\b\b\b\b\b\b\b\b\b\b\b\b\b\b\b\b\b\b\b\b\b\b\b\b\b\b\b\b\b\b\b\b\b\b\b\b\b\b\b\b\b\b\b\b\b\b\b\b\b\b\b\b\b\b\b\b\b\b\b\b\b\b\b\b\b\b\b\b\b\b\b\b\b\b\b\r\u001b[1m60/60\u001b[0m \u001b[32m━━━━━━━━━━━━━━━━━━━━\u001b[0m\u001b[37m\u001b[0m \u001b[1m82s\u001b[0m 744ms/step - accuracy: 0.9987 - dice_score: 0.7799 - loss: 0.4424 - mean_io_u: 0.9328 - ppv: 0.6633 - val_accuracy: 0.9985 - val_dice_score: 0.7401 - val_loss: 0.4279 - val_mean_io_u: 0.9137 - val_ppv: 0.6022\n",
            "Epoch 21/100\n",
            "\u001b[1m60/60\u001b[0m \u001b[32m━━━━━━━━━━━━━━━━━━━━\u001b[0m\u001b[37m\u001b[0m \u001b[1m0s\u001b[0m 650ms/step - accuracy: 0.9989 - dice_score: 0.8098 - loss: 0.4353 - mean_io_u: 0.9401 - ppv: 0.7004"
          ]
        },
        {
          "output_type": "stream",
          "name": "stderr",
          "text": [
            "WARNING:absl:You are saving your model as an HDF5 file via `model.save()` or `keras.saving.save_model(model)`. This file format is considered legacy. We recommend using instead the native Keras format, e.g. `model.save('my_model.keras')` or `keras.saving.save_model(model, 'my_model.keras')`. \n"
          ]
        },
        {
          "output_type": "stream",
          "name": "stdout",
          "text": [
            "\b\b\b\b\b\b\b\b\b\b\b\b\b\b\b\b\b\b\b\b\b\b\b\b\b\b\b\b\b\b\b\b\b\b\b\b\b\b\b\b\b\b\b\b\b\b\b\b\b\b\b\b\b\b\b\b\b\b\b\b\b\b\b\b\b\b\b\b\b\b\b\b\b\b\b\b\b\b\b\b\b\b\b\b\b\b\b\b\b\b\b\b\b\b\b\b\b\b\b\b\b\b\b\b\b\b\b\b\b\b\b\b\b\b\b\b\b\b\b\b\b\b\b\b\b\b\b\b\b\r\u001b[1m60/60\u001b[0m \u001b[32m━━━━━━━━━━━━━━━━━━━━\u001b[0m\u001b[37m\u001b[0m \u001b[1m85s\u001b[0m 800ms/step - accuracy: 0.9989 - dice_score: 0.8097 - loss: 0.4353 - mean_io_u: 0.9400 - ppv: 0.7003 - val_accuracy: 0.9986 - val_dice_score: 0.7562 - val_loss: 0.4204 - val_mean_io_u: 0.9153 - val_ppv: 0.6244\n",
            "Epoch 22/100\n",
            "\u001b[1m60/60\u001b[0m \u001b[32m━━━━━━━━━━━━━━━━━━━━\u001b[0m\u001b[37m\u001b[0m \u001b[1m76s\u001b[0m 704ms/step - accuracy: 0.9989 - dice_score: 0.7995 - loss: 0.4350 - mean_io_u: 0.9345 - ppv: 0.6901 - val_accuracy: 0.9984 - val_dice_score: 0.7290 - val_loss: 0.4181 - val_mean_io_u: 0.9125 - val_ppv: 0.5856\n",
            "Epoch 23/100\n",
            "\u001b[1m60/60\u001b[0m \u001b[32m━━━━━━━━━━━━━━━━━━━━\u001b[0m\u001b[37m\u001b[0m \u001b[1m41s\u001b[0m 685ms/step - accuracy: 0.9989 - dice_score: 0.8173 - loss: 0.4292 - mean_io_u: 0.9369 - ppv: 0.7147 - val_accuracy: 0.9981 - val_dice_score: 0.7018 - val_loss: 0.4217 - val_mean_io_u: 0.9137 - val_ppv: 0.5496\n",
            "Epoch 24/100\n",
            "\u001b[1m60/60\u001b[0m \u001b[32m━━━━━━━━━━━━━━━━━━━━\u001b[0m\u001b[37m\u001b[0m \u001b[1m85s\u001b[0m 741ms/step - accuracy: 0.9989 - dice_score: 0.8201 - loss: 0.4250 - mean_io_u: 0.9392 - ppv: 0.7165 - val_accuracy: 0.9982 - val_dice_score: 0.7065 - val_loss: 0.4185 - val_mean_io_u: 0.9132 - val_ppv: 0.5557\n",
            "Epoch 25/100\n",
            "\u001b[1m60/60\u001b[0m \u001b[32m━━━━━━━━━━━━━━━━━━━━\u001b[0m\u001b[37m\u001b[0m \u001b[1m0s\u001b[0m 649ms/step - accuracy: 0.9989 - dice_score: 0.8106 - loss: 0.4241 - mean_io_u: 0.9343 - ppv: 0.7091"
          ]
        },
        {
          "output_type": "stream",
          "name": "stderr",
          "text": [
            "WARNING:absl:You are saving your model as an HDF5 file via `model.save()` or `keras.saving.save_model(model)`. This file format is considered legacy. We recommend using instead the native Keras format, e.g. `model.save('my_model.keras')` or `keras.saving.save_model(model, 'my_model.keras')`. \n"
          ]
        },
        {
          "output_type": "stream",
          "name": "stdout",
          "text": [
            "\b\b\b\b\b\b\b\b\b\b\b\b\b\b\b\b\b\b\b\b\b\b\b\b\b\b\b\b\b\b\b\b\b\b\b\b\b\b\b\b\b\b\b\b\b\b\b\b\b\b\b\b\b\b\b\b\b\b\b\b\b\b\b\b\b\b\b\b\b\b\b\b\b\b\b\b\b\b\b\b\b\b\b\b\b\b\b\b\b\b\b\b\b\b\b\b\b\b\b\b\b\b\b\b\b\b\b\b\b\b\b\b\b\b\b\b\b\b\b\b\b\b\b\b\b\b\b\b\b\r\u001b[1m60/60\u001b[0m \u001b[32m━━━━━━━━━━━━━━━━━━━━\u001b[0m\u001b[37m\u001b[0m \u001b[1m87s\u001b[0m 819ms/step - accuracy: 0.9989 - dice_score: 0.8108 - loss: 0.4241 - mean_io_u: 0.9344 - ppv: 0.7092 - val_accuracy: 0.9987 - val_dice_score: 0.7722 - val_loss: 0.4133 - val_mean_io_u: 0.9186 - val_ppv: 0.6436\n",
            "Epoch 26/100\n",
            "\u001b[1m60/60\u001b[0m \u001b[32m━━━━━━━━━━━━━━━━━━━━\u001b[0m\u001b[37m\u001b[0m \u001b[1m75s\u001b[0m 703ms/step - accuracy: 0.9990 - dice_score: 0.8243 - loss: 0.4163 - mean_io_u: 0.9405 - ppv: 0.7259 - val_accuracy: 0.9985 - val_dice_score: 0.7447 - val_loss: 0.4059 - val_mean_io_u: 0.9173 - val_ppv: 0.6112\n",
            "Epoch 27/100\n",
            "\u001b[1m60/60\u001b[0m \u001b[32m━━━━━━━━━━━━━━━━━━━━\u001b[0m\u001b[37m\u001b[0m \u001b[1m43s\u001b[0m 720ms/step - accuracy: 0.9990 - dice_score: 0.8166 - loss: 0.4172 - mean_io_u: 0.9368 - ppv: 0.7189 - val_accuracy: 0.9985 - val_dice_score: 0.7479 - val_loss: 0.4106 - val_mean_io_u: 0.9175 - val_ppv: 0.6118\n",
            "Epoch 28/100\n",
            "\u001b[1m60/60\u001b[0m \u001b[32m━━━━━━━━━━━━━━━━━━━━\u001b[0m\u001b[37m\u001b[0m \u001b[1m0s\u001b[0m 653ms/step - accuracy: 0.9990 - dice_score: 0.8318 - loss: 0.4090 - mean_io_u: 0.9432 - ppv: 0.7357"
          ]
        },
        {
          "output_type": "stream",
          "name": "stderr",
          "text": [
            "WARNING:absl:You are saving your model as an HDF5 file via `model.save()` or `keras.saving.save_model(model)`. This file format is considered legacy. We recommend using instead the native Keras format, e.g. `model.save('my_model.keras')` or `keras.saving.save_model(model, 'my_model.keras')`. \n"
          ]
        },
        {
          "output_type": "stream",
          "name": "stdout",
          "text": [
            "\b\b\b\b\b\b\b\b\b\b\b\b\b\b\b\b\b\b\b\b\b\b\b\b\b\b\b\b\b\b\b\b\b\b\b\b\b\b\b\b\b\b\b\b\b\b\b\b\b\b\b\b\b\b\b\b\b\b\b\b\b\b\b\b\b\b\b\b\b\b\b\b\b\b\b\b\b\b\b\b\b\b\b\b\b\b\b\b\b\b\b\b\b\b\b\b\b\b\b\b\b\b\b\b\b\b\b\b\b\b\b\b\b\b\b\b\b\b\b\b\b\b\b\b\b\b\b\b\b\r\u001b[1m60/60\u001b[0m \u001b[32m━━━━━━━━━━━━━━━━━━━━\u001b[0m\u001b[37m\u001b[0m \u001b[1m83s\u001b[0m 740ms/step - accuracy: 0.9990 - dice_score: 0.8316 - loss: 0.4091 - mean_io_u: 0.9431 - ppv: 0.7356 - val_accuracy: 0.9988 - val_dice_score: 0.7893 - val_loss: 0.4029 - val_mean_io_u: 0.9200 - val_ppv: 0.6698\n",
            "Epoch 29/100\n",
            "\u001b[1m60/60\u001b[0m \u001b[32m━━━━━━━━━━━━━━━━━━━━\u001b[0m\u001b[37m\u001b[0m \u001b[1m0s\u001b[0m 649ms/step - accuracy: 0.9991 - dice_score: 0.8254 - loss: 0.4113 - mean_io_u: 0.9352 - ppv: 0.7332"
          ]
        },
        {
          "output_type": "stream",
          "name": "stderr",
          "text": [
            "WARNING:absl:You are saving your model as an HDF5 file via `model.save()` or `keras.saving.save_model(model)`. This file format is considered legacy. We recommend using instead the native Keras format, e.g. `model.save('my_model.keras')` or `keras.saving.save_model(model, 'my_model.keras')`. \n"
          ]
        },
        {
          "output_type": "stream",
          "name": "stdout",
          "text": [
            "\b\b\b\b\b\b\b\b\b\b\b\b\b\b\b\b\b\b\b\b\b\b\b\b\b\b\b\b\b\b\b\b\b\b\b\b\b\b\b\b\b\b\b\b\b\b\b\b\b\b\b\b\b\b\b\b\b\b\b\b\b\b\b\b\b\b\b\b\b\b\b\b\b\b\b\b\b\b\b\b\b\b\b\b\b\b\b\b\b\b\b\b\b\b\b\b\b\b\b\b\b\b\b\b\b\b\b\b\b\b\b\b\b\b\b\b\b\b\b\b\b\b\b\b\b\b\b\b\b\r\u001b[1m60/60\u001b[0m \u001b[32m━━━━━━━━━━━━━━━━━━━━\u001b[0m\u001b[37m\u001b[0m \u001b[1m84s\u001b[0m 781ms/step - accuracy: 0.9991 - dice_score: 0.8255 - loss: 0.4113 - mean_io_u: 0.9353 - ppv: 0.7332 - val_accuracy: 0.9989 - val_dice_score: 0.7990 - val_loss: 0.3994 - val_mean_io_u: 0.9220 - val_ppv: 0.6826\n",
            "Epoch 30/100\n",
            "\u001b[1m60/60\u001b[0m \u001b[32m━━━━━━━━━━━━━━━━━━━━\u001b[0m\u001b[37m\u001b[0m \u001b[1m0s\u001b[0m 649ms/step - accuracy: 0.9991 - dice_score: 0.8450 - loss: 0.4053 - mean_io_u: 0.9416 - ppv: 0.7570"
          ]
        },
        {
          "output_type": "stream",
          "name": "stderr",
          "text": [
            "WARNING:absl:You are saving your model as an HDF5 file via `model.save()` or `keras.saving.save_model(model)`. This file format is considered legacy. We recommend using instead the native Keras format, e.g. `model.save('my_model.keras')` or `keras.saving.save_model(model, 'my_model.keras')`. \n"
          ]
        },
        {
          "output_type": "stream",
          "name": "stdout",
          "text": [
            "\b\b\b\b\b\b\b\b\b\b\b\b\b\b\b\b\b\b\b\b\b\b\b\b\b\b\b\b\b\b\b\b\b\b\b\b\b\b\b\b\b\b\b\b\b\b\b\b\b\b\b\b\b\b\b\b\b\b\b\b\b\b\b\b\b\b\b\b\b\b\b\b\b\b\b\b\b\b\b\b\b\b\b\b\b\b\b\b\b\b\b\b\b\b\b\b\b\b\b\b\b\b\b\b\b\b\b\b\b\b\b\b\b\b\b\b\b\b\b\b\b\b\b\b\b\b\b\b\b\r\u001b[1m60/60\u001b[0m \u001b[32m━━━━━━━━━━━━━━━━━━━━\u001b[0m\u001b[37m\u001b[0m \u001b[1m82s\u001b[0m 781ms/step - accuracy: 0.9991 - dice_score: 0.8449 - loss: 0.4053 - mean_io_u: 0.9416 - ppv: 0.7568 - val_accuracy: 0.9988 - val_dice_score: 0.7765 - val_loss: 0.3968 - val_mean_io_u: 0.9234 - val_ppv: 0.6501\n",
            "Epoch 31/100\n",
            "\u001b[1m60/60\u001b[0m \u001b[32m━━━━━━━━━━━━━━━━━━━━\u001b[0m\u001b[37m\u001b[0m \u001b[1m77s\u001b[0m 703ms/step - accuracy: 0.9991 - dice_score: 0.8379 - loss: 0.4012 - mean_io_u: 0.9416 - ppv: 0.7463 - val_accuracy: 0.9987 - val_dice_score: 0.7690 - val_loss: 0.3926 - val_mean_io_u: 0.9212 - val_ppv: 0.6388\n",
            "Epoch 32/100\n",
            "\u001b[1m60/60\u001b[0m \u001b[32m━━━━━━━━━━━━━━━━━━━━\u001b[0m\u001b[37m\u001b[0m \u001b[1m43s\u001b[0m 721ms/step - accuracy: 0.9991 - dice_score: 0.8401 - loss: 0.3996 - mean_io_u: 0.9445 - ppv: 0.7484 - val_accuracy: 0.9986 - val_dice_score: 0.7589 - val_loss: 0.3831 - val_mean_io_u: 0.9212 - val_ppv: 0.6250\n",
            "Epoch 33/100\n",
            "\u001b[1m60/60\u001b[0m \u001b[32m━━━━━━━━━━━━━━━━━━━━\u001b[0m\u001b[37m\u001b[0m \u001b[1m81s\u001b[0m 706ms/step - accuracy: 0.9989 - dice_score: 0.8163 - loss: 0.3971 - mean_io_u: 0.9438 - ppv: 0.7178 - val_accuracy: 0.9986 - val_dice_score: 0.7524 - val_loss: 0.3895 - val_mean_io_u: 0.9225 - val_ppv: 0.6147\n",
            "Epoch 34/100\n",
            "\u001b[1m60/60\u001b[0m \u001b[32m━━━━━━━━━━━━━━━━━━━━\u001b[0m\u001b[37m\u001b[0m \u001b[1m0s\u001b[0m 631ms/step - accuracy: 0.9991 - dice_score: 0.8222 - loss: 0.3947 - mean_io_u: 0.9410 - ppv: 0.7295"
          ]
        },
        {
          "output_type": "stream",
          "name": "stderr",
          "text": [
            "WARNING:absl:You are saving your model as an HDF5 file via `model.save()` or `keras.saving.save_model(model)`. This file format is considered legacy. We recommend using instead the native Keras format, e.g. `model.save('my_model.keras')` or `keras.saving.save_model(model, 'my_model.keras')`. \n"
          ]
        },
        {
          "output_type": "stream",
          "name": "stdout",
          "text": [
            "\b\b\b\b\b\b\b\b\b\b\b\b\b\b\b\b\b\b\b\b\b\b\b\b\b\b\b\b\b\b\b\b\b\b\b\b\b\b\b\b\b\b\b\b\b\b\b\b\b\b\b\b\b\b\b\b\b\b\b\b\b\b\b\b\b\b\b\b\b\b\b\b\b\b\b\b\b\b\b\b\b\b\b\b\b\b\b\b\b\b\b\b\b\b\b\b\b\b\b\b\b\b\b\b\b\b\b\b\b\b\b\b\b\b\b\b\b\b\b\b\b\b\b\b\b\b\b\b\b\r\u001b[1m60/60\u001b[0m \u001b[32m━━━━━━━━━━━━━━━━━━━━\u001b[0m\u001b[37m\u001b[0m \u001b[1m46s\u001b[0m 767ms/step - accuracy: 0.9991 - dice_score: 0.8224 - loss: 0.3946 - mean_io_u: 0.9410 - ppv: 0.7297 - val_accuracy: 0.9989 - val_dice_score: 0.7914 - val_loss: 0.3843 - val_mean_io_u: 0.9237 - val_ppv: 0.6717\n",
            "Epoch 35/100\n",
            "\u001b[1m60/60\u001b[0m \u001b[32m━━━━━━━━━━━━━━━━━━━━\u001b[0m\u001b[37m\u001b[0m \u001b[1m42s\u001b[0m 694ms/step - accuracy: 0.9991 - dice_score: 0.8416 - loss: 0.3885 - mean_io_u: 0.9458 - ppv: 0.7539 - val_accuracy: 0.9985 - val_dice_score: 0.7418 - val_loss: 0.3814 - val_mean_io_u: 0.9223 - val_ppv: 0.6004\n",
            "Epoch 36/100\n",
            "\u001b[1m60/60\u001b[0m \u001b[32m━━━━━━━━━━━━━━━━━━━━\u001b[0m\u001b[37m\u001b[0m \u001b[1m0s\u001b[0m 649ms/step - accuracy: 0.9991 - dice_score: 0.8441 - loss: 0.3853 - mean_io_u: 0.9463 - ppv: 0.7555"
          ]
        },
        {
          "output_type": "stream",
          "name": "stderr",
          "text": [
            "WARNING:absl:You are saving your model as an HDF5 file via `model.save()` or `keras.saving.save_model(model)`. This file format is considered legacy. We recommend using instead the native Keras format, e.g. `model.save('my_model.keras')` or `keras.saving.save_model(model, 'my_model.keras')`. \n"
          ]
        },
        {
          "output_type": "stream",
          "name": "stdout",
          "text": [
            "\b\b\b\b\b\b\b\b\b\b\b\b\b\b\b\b\b\b\b\b\b\b\b\b\b\b\b\b\b\b\b\b\b\b\b\b\b\b\b\b\b\b\b\b\b\b\b\b\b\b\b\b\b\b\b\b\b\b\b\b\b\b\b\b\b\b\b\b\b\b\b\b\b\b\b\b\b\b\b\b\b\b\b\b\b\b\b\b\b\b\b\b\b\b\b\b\b\b\b\b\b\b\b\b\b\b\b\b\b\b\b\b\b\b\b\b\b\b\b\b\b\b\b\b\b\b\b\b\b\r\u001b[1m60/60\u001b[0m \u001b[32m━━━━━━━━━━━━━━━━━━━━\u001b[0m\u001b[37m\u001b[0m \u001b[1m86s\u001b[0m 767ms/step - accuracy: 0.9991 - dice_score: 0.8441 - loss: 0.3853 - mean_io_u: 0.9462 - ppv: 0.7556 - val_accuracy: 0.9987 - val_dice_score: 0.7721 - val_loss: 0.3803 - val_mean_io_u: 0.9245 - val_ppv: 0.6410\n",
            "Epoch 37/100\n",
            "\u001b[1m60/60\u001b[0m \u001b[32m━━━━━━━━━━━━━━━━━━━━\u001b[0m\u001b[37m\u001b[0m \u001b[1m80s\u001b[0m 738ms/step - accuracy: 0.9992 - dice_score: 0.8477 - loss: 0.3833 - mean_io_u: 0.9469 - ppv: 0.7616 - val_accuracy: 0.9987 - val_dice_score: 0.7667 - val_loss: 0.3728 - val_mean_io_u: 0.9235 - val_ppv: 0.6351\n",
            "Epoch 38/100\n",
            "\u001b[1m60/60\u001b[0m \u001b[32m━━━━━━━━━━━━━━━━━━━━\u001b[0m\u001b[37m\u001b[0m \u001b[1m82s\u001b[0m 738ms/step - accuracy: 0.9992 - dice_score: 0.8528 - loss: 0.3790 - mean_io_u: 0.9458 - ppv: 0.7677 - val_accuracy: 0.9989 - val_dice_score: 0.8009 - val_loss: 0.3715 - val_mean_io_u: 0.9233 - val_ppv: 0.6824\n",
            "Epoch 39/100\n",
            "\u001b[1m60/60\u001b[0m \u001b[32m━━━━━━━━━━━━━━━━━━━━\u001b[0m\u001b[37m\u001b[0m \u001b[1m80s\u001b[0m 703ms/step - accuracy: 0.9992 - dice_score: 0.8603 - loss: 0.3724 - mean_io_u: 0.9483 - ppv: 0.7799 - val_accuracy: 0.9989 - val_dice_score: 0.7906 - val_loss: 0.3642 - val_mean_io_u: 0.9228 - val_ppv: 0.6719\n",
            "Epoch 40/100\n",
            "\u001b[1m60/60\u001b[0m \u001b[32m━━━━━━━━━━━━━━━━━━━━\u001b[0m\u001b[37m\u001b[0m \u001b[1m82s\u001b[0m 698ms/step - accuracy: 0.9992 - dice_score: 0.8595 - loss: 0.3694 - mean_io_u: 0.9508 - ppv: 0.7782 - val_accuracy: 0.9989 - val_dice_score: 0.7937 - val_loss: 0.3694 - val_mean_io_u: 0.9230 - val_ppv: 0.6723\n",
            "Epoch 41/100\n",
            "\u001b[1m60/60\u001b[0m \u001b[32m━━━━━━━━━━━━━━━━━━━━\u001b[0m\u001b[37m\u001b[0m \u001b[1m0s\u001b[0m 653ms/step - accuracy: 0.9992 - dice_score: 0.8572 - loss: 0.3678 - mean_io_u: 0.9449 - ppv: 0.7844"
          ]
        },
        {
          "output_type": "stream",
          "name": "stderr",
          "text": [
            "WARNING:absl:You are saving your model as an HDF5 file via `model.save()` or `keras.saving.save_model(model)`. This file format is considered legacy. We recommend using instead the native Keras format, e.g. `model.save('my_model.keras')` or `keras.saving.save_model(model, 'my_model.keras')`. \n"
          ]
        },
        {
          "output_type": "stream",
          "name": "stdout",
          "text": [
            "\b\b\b\b\b\b\b\b\b\b\b\b\b\b\b\b\b\b\b\b\b\b\b\b\b\b\b\b\b\b\b\b\b\b\b\b\b\b\b\b\b\b\b\b\b\b\b\b\b\b\b\b\b\b\b\b\b\b\b\b\b\b\b\b\b\b\b\b\b\b\b\b\b\b\b\b\b\b\b\b\b\b\b\b\b\b\b\b\b\b\b\b\b\b\b\b\b\b\b\b\b\b\b\b\b\b\b\b\b\b\b\b\b\b\b\b\b\b\b\b\b\b\b\b\b\b\b\b\b\r\u001b[1m60/60\u001b[0m \u001b[32m━━━━━━━━━━━━━━━━━━━━\u001b[0m\u001b[37m\u001b[0m \u001b[1m86s\u001b[0m 770ms/step - accuracy: 0.9992 - dice_score: 0.8571 - loss: 0.3678 - mean_io_u: 0.9450 - ppv: 0.7843 - val_accuracy: 0.9989 - val_dice_score: 0.8046 - val_loss: 0.3578 - val_mean_io_u: 0.9245 - val_ppv: 0.6909\n",
            "Epoch 42/100\n",
            "\u001b[1m60/60\u001b[0m \u001b[32m━━━━━━━━━━━━━━━━━━━━\u001b[0m\u001b[37m\u001b[0m \u001b[1m0s\u001b[0m 650ms/step - accuracy: 0.9992 - dice_score: 0.8427 - loss: 0.3701 - mean_io_u: 0.9421 - ppv: 0.7626"
          ]
        },
        {
          "output_type": "stream",
          "name": "stderr",
          "text": [
            "WARNING:absl:You are saving your model as an HDF5 file via `model.save()` or `keras.saving.save_model(model)`. This file format is considered legacy. We recommend using instead the native Keras format, e.g. `model.save('my_model.keras')` or `keras.saving.save_model(model, 'my_model.keras')`. \n"
          ]
        },
        {
          "output_type": "stream",
          "name": "stdout",
          "text": [
            "\b\b\b\b\b\b\b\b\b\b\b\b\b\b\b\b\b\b\b\b\b\b\b\b\b\b\b\b\b\b\b\b\b\b\b\b\b\b\b\b\b\b\b\b\b\b\b\b\b\b\b\b\b\b\b\b\b\b\b\b\b\b\b\b\b\b\b\b\b\b\b\b\b\b\b\b\b\b\b\b\b\b\b\b\b\b\b\b\b\b\b\b\b\b\b\b\b\b\b\b\b\b\b\b\b\b\b\b\b\b\b\b\b\b\b\b\b\b\b\b\b\b\b\b\b\b\b\b\b\r\u001b[1m60/60\u001b[0m \u001b[32m━━━━━━━━━━━━━━━━━━━━\u001b[0m\u001b[37m\u001b[0m \u001b[1m81s\u001b[0m 749ms/step - accuracy: 0.9992 - dice_score: 0.8429 - loss: 0.3700 - mean_io_u: 0.9422 - ppv: 0.7629 - val_accuracy: 0.9990 - val_dice_score: 0.8080 - val_loss: 0.3553 - val_mean_io_u: 0.9249 - val_ppv: 0.6955\n",
            "Epoch 43/100\n",
            "\u001b[1m60/60\u001b[0m \u001b[32m━━━━━━━━━━━━━━━━━━━━\u001b[0m\u001b[37m\u001b[0m \u001b[1m79s\u001b[0m 703ms/step - accuracy: 0.9992 - dice_score: 0.8620 - loss: 0.3607 - mean_io_u: 0.9488 - ppv: 0.7847 - val_accuracy: 0.9987 - val_dice_score: 0.7660 - val_loss: 0.3598 - val_mean_io_u: 0.9229 - val_ppv: 0.6332\n",
            "Epoch 44/100\n",
            "\u001b[1m60/60\u001b[0m \u001b[32m━━━━━━━━━━━━━━━━━━━━\u001b[0m\u001b[37m\u001b[0m \u001b[1m84s\u001b[0m 738ms/step - accuracy: 0.9992 - dice_score: 0.8543 - loss: 0.3603 - mean_io_u: 0.9464 - ppv: 0.7778 - val_accuracy: 0.9989 - val_dice_score: 0.7941 - val_loss: 0.3539 - val_mean_io_u: 0.9245 - val_ppv: 0.6738\n",
            "Epoch 45/100\n",
            "\u001b[1m60/60\u001b[0m \u001b[32m━━━━━━━━━━━━━━━━━━━━\u001b[0m\u001b[37m\u001b[0m \u001b[1m82s\u001b[0m 738ms/step - accuracy: 0.9993 - dice_score: 0.8679 - loss: 0.3546 - mean_io_u: 0.9501 - ppv: 0.7946 - val_accuracy: 0.9990 - val_dice_score: 0.8107 - val_loss: 0.3452 - val_mean_io_u: 0.9243 - val_ppv: 0.7006\n",
            "Epoch 46/100\n",
            "\u001b[1m60/60\u001b[0m \u001b[32m━━━━━━━━━━━━━━━━━━━━\u001b[0m\u001b[37m\u001b[0m \u001b[1m0s\u001b[0m 650ms/step - accuracy: 0.9993 - dice_score: 0.8770 - loss: 0.3511 - mean_io_u: 0.9522 - ppv: 0.8063"
          ]
        },
        {
          "output_type": "stream",
          "name": "stderr",
          "text": [
            "WARNING:absl:You are saving your model as an HDF5 file via `model.save()` or `keras.saving.save_model(model)`. This file format is considered legacy. We recommend using instead the native Keras format, e.g. `model.save('my_model.keras')` or `keras.saving.save_model(model, 'my_model.keras')`. \n"
          ]
        },
        {
          "output_type": "stream",
          "name": "stdout",
          "text": [
            "\b\b\b\b\b\b\b\b\b\b\b\b\b\b\b\b\b\b\b\b\b\b\b\b\b\b\b\b\b\b\b\b\b\b\b\b\b\b\b\b\b\b\b\b\b\b\b\b\b\b\b\b\b\b\b\b\b\b\b\b\b\b\b\b\b\b\b\b\b\b\b\b\b\b\b\b\b\b\b\b\b\b\b\b\b\b\b\b\b\b\b\b\b\b\b\b\b\b\b\b\b\b\b\b\b\b\b\b\b\b\b\b\b\b\b\b\b\b\b\b\b\b\b\b\b\b\b\b\b\r\u001b[1m60/60\u001b[0m \u001b[32m━━━━━━━━━━━━━━━━━━━━\u001b[0m\u001b[37m\u001b[0m \u001b[1m88s\u001b[0m 843ms/step - accuracy: 0.9993 - dice_score: 0.8768 - loss: 0.3511 - mean_io_u: 0.9521 - ppv: 0.8061 - val_accuracy: 0.9990 - val_dice_score: 0.8085 - val_loss: 0.3448 - val_mean_io_u: 0.9256 - val_ppv: 0.6969\n",
            "Epoch 47/100\n",
            "\u001b[1m60/60\u001b[0m \u001b[32m━━━━━━━━━━━━━━━━━━━━\u001b[0m\u001b[37m\u001b[0m \u001b[1m0s\u001b[0m 650ms/step - accuracy: 0.9993 - dice_score: 0.8602 - loss: 0.3500 - mean_io_u: 0.9472 - ppv: 0.7877"
          ]
        },
        {
          "output_type": "stream",
          "name": "stderr",
          "text": [
            "WARNING:absl:You are saving your model as an HDF5 file via `model.save()` or `keras.saving.save_model(model)`. This file format is considered legacy. We recommend using instead the native Keras format, e.g. `model.save('my_model.keras')` or `keras.saving.save_model(model, 'my_model.keras')`. \n"
          ]
        },
        {
          "output_type": "stream",
          "name": "stdout",
          "text": [
            "\b\b\b\b\b\b\b\b\b\b\b\b\b\b\b\b\b\b\b\b\b\b\b\b\b\b\b\b\b\b\b\b\b\b\b\b\b\b\b\b\b\b\b\b\b\b\b\b\b\b\b\b\b\b\b\b\b\b\b\b\b\b\b\b\b\b\b\b\b\b\b\b\b\b\b\b\b\b\b\b\b\b\b\b\b\b\b\b\b\b\b\b\b\b\b\b\b\b\b\b\b\b\b\b\b\b\b\b\b\b\b\b\b\b\b\b\b\b\b\b\b\b\b\b\b\b\b\b\b\r\u001b[1m60/60\u001b[0m \u001b[32m━━━━━━━━━━━━━━━━━━━━\u001b[0m\u001b[37m\u001b[0m \u001b[1m82s\u001b[0m 838ms/step - accuracy: 0.9993 - dice_score: 0.8603 - loss: 0.3499 - mean_io_u: 0.9472 - ppv: 0.7878 - val_accuracy: 0.9990 - val_dice_score: 0.8116 - val_loss: 0.3443 - val_mean_io_u: 0.9259 - val_ppv: 0.6987\n",
            "Epoch 48/100\n",
            "\u001b[1m60/60\u001b[0m \u001b[32m━━━━━━━━━━━━━━━━━━━━\u001b[0m\u001b[37m\u001b[0m \u001b[1m0s\u001b[0m 644ms/step - accuracy: 0.9993 - dice_score: 0.8730 - loss: 0.3459 - mean_io_u: 0.9512 - ppv: 0.8033"
          ]
        },
        {
          "output_type": "stream",
          "name": "stderr",
          "text": [
            "WARNING:absl:You are saving your model as an HDF5 file via `model.save()` or `keras.saving.save_model(model)`. This file format is considered legacy. We recommend using instead the native Keras format, e.g. `model.save('my_model.keras')` or `keras.saving.save_model(model, 'my_model.keras')`. \n"
          ]
        },
        {
          "output_type": "stream",
          "name": "stdout",
          "text": [
            "\b\b\b\b\b\b\b\b\b\b\b\b\b\b\b\b\b\b\b\b\b\b\b\b\b\b\b\b\b\b\b\b\b\b\b\b\b\b\b\b\b\b\b\b\b\b\b\b\b\b\b\b\b\b\b\b\b\b\b\b\b\b\b\b\b\b\b\b\b\b\b\b\b\b\b\b\b\b\b\b\b\b\b\b\b\b\b\b\b\b\b\b\b\b\b\b\b\b\b\b\b\b\b\b\b\b\b\b\b\b\b\b\b\b\b\b\b\b\b\b\b\b\b\b\b\b\b\b\b\r\u001b[1m60/60\u001b[0m \u001b[32m━━━━━━━━━━━━━━━━━━━━\u001b[0m\u001b[37m\u001b[0m \u001b[1m77s\u001b[0m 758ms/step - accuracy: 0.9993 - dice_score: 0.8730 - loss: 0.3459 - mean_io_u: 0.9512 - ppv: 0.8032 - val_accuracy: 0.9988 - val_dice_score: 0.7808 - val_loss: 0.3433 - val_mean_io_u: 0.9260 - val_ppv: 0.6538\n",
            "Epoch 49/100\n",
            "\u001b[1m60/60\u001b[0m \u001b[32m━━━━━━━━━━━━━━━━━━━━\u001b[0m\u001b[37m\u001b[0m \u001b[1m0s\u001b[0m 652ms/step - accuracy: 0.9993 - dice_score: 0.8774 - loss: 0.3412 - mean_io_u: 0.9558 - ppv: 0.8067"
          ]
        },
        {
          "output_type": "stream",
          "name": "stderr",
          "text": [
            "WARNING:absl:You are saving your model as an HDF5 file via `model.save()` or `keras.saving.save_model(model)`. This file format is considered legacy. We recommend using instead the native Keras format, e.g. `model.save('my_model.keras')` or `keras.saving.save_model(model, 'my_model.keras')`. \n"
          ]
        },
        {
          "output_type": "stream",
          "name": "stdout",
          "text": [
            "\b\b\b\b\b\b\b\b\b\b\b\b\b\b\b\b\b\b\b\b\b\b\b\b\b\b\b\b\b\b\b\b\b\b\b\b\b\b\b\b\b\b\b\b\b\b\b\b\b\b\b\b\b\b\b\b\b\b\b\b\b\b\b\b\b\b\b\b\b\b\b\b\b\b\b\b\b\b\b\b\b\b\b\b\b\b\b\b\b\b\b\b\b\b\b\b\b\b\b\b\b\b\b\b\b\b\b\b\b\b\b\b\b\b\b\b\b\b\b\b\b\b\b\b\b\b\b\b\b\r\u001b[1m60/60\u001b[0m \u001b[32m━━━━━━━━━━━━━━━━━━━━\u001b[0m\u001b[37m\u001b[0m \u001b[1m83s\u001b[0m 771ms/step - accuracy: 0.9993 - dice_score: 0.8773 - loss: 0.3412 - mean_io_u: 0.9557 - ppv: 0.8067 - val_accuracy: 0.9990 - val_dice_score: 0.8066 - val_loss: 0.3386 - val_mean_io_u: 0.9263 - val_ppv: 0.6926\n",
            "Epoch 50/100\n",
            "\u001b[1m60/60\u001b[0m \u001b[32m━━━━━━━━━━━━━━━━━━━━\u001b[0m\u001b[37m\u001b[0m \u001b[1m41s\u001b[0m 683ms/step - accuracy: 0.9993 - dice_score: 0.8629 - loss: 0.3397 - mean_io_u: 0.9512 - ppv: 0.7819 - val_accuracy: 0.9991 - val_dice_score: 0.8311 - val_loss: 0.3314 - val_mean_io_u: 0.9256 - val_ppv: 0.7330\n",
            "Epoch 51/100\n",
            "\u001b[1m60/60\u001b[0m \u001b[32m━━━━━━━━━━━━━━━━━━━━\u001b[0m\u001b[37m\u001b[0m \u001b[1m0s\u001b[0m 653ms/step - accuracy: 0.9994 - dice_score: 0.8761 - loss: 0.3379 - mean_io_u: 0.9556 - ppv: 0.8072"
          ]
        },
        {
          "output_type": "stream",
          "name": "stderr",
          "text": [
            "WARNING:absl:You are saving your model as an HDF5 file via `model.save()` or `keras.saving.save_model(model)`. This file format is considered legacy. We recommend using instead the native Keras format, e.g. `model.save('my_model.keras')` or `keras.saving.save_model(model, 'my_model.keras')`. \n"
          ]
        },
        {
          "output_type": "stream",
          "name": "stdout",
          "text": [
            "\b\b\b\b\b\b\b\b\b\b\b\b\b\b\b\b\b\b\b\b\b\b\b\b\b\b\b\b\b\b\b\b\b\b\b\b\b\b\b\b\b\b\b\b\b\b\b\b\b\b\b\b\b\b\b\b\b\b\b\b\b\b\b\b\b\b\b\b\b\b\b\b\b\b\b\b\b\b\b\b\b\b\b\b\b\b\b\b\b\b\b\b\b\b\b\b\b\b\b\b\b\b\b\b\b\b\b\b\b\b\b\b\b\b\b\b\b\b\b\b\b\b\b\b\b\b\b\b\b\r\u001b[1m60/60\u001b[0m \u001b[32m━━━━━━━━━━━━━━━━━━━━\u001b[0m\u001b[37m\u001b[0m \u001b[1m90s\u001b[0m 824ms/step - accuracy: 0.9994 - dice_score: 0.8761 - loss: 0.3378 - mean_io_u: 0.9556 - ppv: 0.8072 - val_accuracy: 0.9991 - val_dice_score: 0.8219 - val_loss: 0.3287 - val_mean_io_u: 0.9280 - val_ppv: 0.7165\n",
            "Epoch 52/100\n",
            "\u001b[1m60/60\u001b[0m \u001b[32m━━━━━━━━━━━━━━━━━━━━\u001b[0m\u001b[37m\u001b[0m \u001b[1m76s\u001b[0m 732ms/step - accuracy: 0.9994 - dice_score: 0.8807 - loss: 0.3310 - mean_io_u: 0.9562 - ppv: 0.8172 - val_accuracy: 0.9991 - val_dice_score: 0.8226 - val_loss: 0.3278 - val_mean_io_u: 0.9245 - val_ppv: 0.7214\n",
            "Epoch 53/100\n",
            "\u001b[1m60/60\u001b[0m \u001b[32m━━━━━━━━━━━━━━━━━━━━\u001b[0m\u001b[37m\u001b[0m \u001b[1m82s\u001b[0m 738ms/step - accuracy: 0.9993 - dice_score: 0.8748 - loss: 0.3290 - mean_io_u: 0.9508 - ppv: 0.8136 - val_accuracy: 0.9990 - val_dice_score: 0.8049 - val_loss: 0.3256 - val_mean_io_u: 0.9253 - val_ppv: 0.6921\n",
            "Epoch 54/100\n",
            "\u001b[1m60/60\u001b[0m \u001b[32m━━━━━━━━━━━━━━━━━━━━\u001b[0m\u001b[37m\u001b[0m \u001b[1m41s\u001b[0m 682ms/step - accuracy: 0.9993 - dice_score: 0.8726 - loss: 0.3275 - mean_io_u: 0.9509 - ppv: 0.8069 - val_accuracy: 0.9988 - val_dice_score: 0.7853 - val_loss: 0.3253 - val_mean_io_u: 0.9212 - val_ppv: 0.6593\n",
            "Epoch 55/100\n",
            "\u001b[1m60/60\u001b[0m \u001b[32m━━━━━━━━━━━━━━━━━━━━\u001b[0m\u001b[37m\u001b[0m \u001b[1m41s\u001b[0m 691ms/step - accuracy: 0.9993 - dice_score: 0.8676 - loss: 0.3259 - mean_io_u: 0.9491 - ppv: 0.8043 - val_accuracy: 0.9992 - val_dice_score: 0.8393 - val_loss: 0.3137 - val_mean_io_u: 0.9208 - val_ppv: 0.7546\n",
            "Epoch 56/100\n",
            "\u001b[1m60/60\u001b[0m \u001b[32m━━━━━━━━━━━━━━━━━━━━\u001b[0m\u001b[37m\u001b[0m \u001b[1m85s\u001b[0m 739ms/step - accuracy: 0.9994 - dice_score: 0.8853 - loss: 0.3208 - mean_io_u: 0.9538 - ppv: 0.8250 - val_accuracy: 0.9990 - val_dice_score: 0.8195 - val_loss: 0.3192 - val_mean_io_u: 0.9248 - val_ppv: 0.7121\n",
            "Epoch 57/100\n",
            "\u001b[1m60/60\u001b[0m \u001b[32m━━━━━━━━━━━━━━━━━━━━\u001b[0m\u001b[37m\u001b[0m \u001b[1m82s\u001b[0m 737ms/step - accuracy: 0.9994 - dice_score: 0.8866 - loss: 0.3169 - mean_io_u: 0.9564 - ppv: 0.8252 - val_accuracy: 0.9991 - val_dice_score: 0.8267 - val_loss: 0.3107 - val_mean_io_u: 0.9241 - val_ppv: 0.7277\n",
            "Epoch 58/100\n",
            "\u001b[1m60/60\u001b[0m \u001b[32m━━━━━━━━━━━━━━━━━━━━\u001b[0m\u001b[37m\u001b[0m \u001b[1m80s\u001b[0m 702ms/step - accuracy: 0.9994 - dice_score: 0.8826 - loss: 0.3138 - mean_io_u: 0.9556 - ppv: 0.8176 - val_accuracy: 0.9990 - val_dice_score: 0.8041 - val_loss: 0.3112 - val_mean_io_u: 0.9239 - val_ppv: 0.6901\n",
            "Epoch 59/100\n",
            "\u001b[1m60/60\u001b[0m \u001b[32m━━━━━━━━━━━━━━━━━━━━\u001b[0m\u001b[37m\u001b[0m \u001b[1m82s\u001b[0m 700ms/step - accuracy: 0.9994 - dice_score: 0.8766 - loss: 0.3140 - mean_io_u: 0.9407 - ppv: 0.8173 - val_accuracy: 0.9990 - val_dice_score: 0.8162 - val_loss: 0.3074 - val_mean_io_u: 0.9175 - val_ppv: 0.7135\n",
            "Epoch 60/100\n",
            "\u001b[1m60/60\u001b[0m \u001b[32m━━━━━━━━━━━━━━━━━━━━\u001b[0m\u001b[37m\u001b[0m \u001b[1m41s\u001b[0m 687ms/step - accuracy: 0.9994 - dice_score: 0.8887 - loss: 0.3091 - mean_io_u: 0.9479 - ppv: 0.8341 - val_accuracy: 0.9991 - val_dice_score: 0.8257 - val_loss: 0.2989 - val_mean_io_u: 0.9271 - val_ppv: 0.7266\n",
            "Epoch 61/100\n",
            "\u001b[1m60/60\u001b[0m \u001b[32m━━━━━━━━━━━━━━━━━━━━\u001b[0m\u001b[37m\u001b[0m \u001b[1m83s\u001b[0m 704ms/step - accuracy: 0.9993 - dice_score: 0.8662 - loss: 0.3080 - mean_io_u: 0.9420 - ppv: 0.8065 - val_accuracy: 0.9992 - val_dice_score: 0.8378 - val_loss: 0.2951 - val_mean_io_u: 0.9084 - val_ppv: 0.7672\n"
          ]
        }
      ]
    },
    {
      "cell_type": "code",
      "source": [
        "loss, accuracy, mean_iou, dice, precision = model.evaluate(X_val, y_val)\n",
        "\n",
        "print(f'Validation Loss: {loss}')\n",
        "print(f'Validation Accuracy: {accuracy}')\n",
        "print(f'Validation Mean IoU: {mean_iou}')\n",
        "print(f'Validation Dice Score: {dice}')\n",
        "print(f'Validation PPV (Precision): {precision}')\n",
        "\n"
      ],
      "metadata": {
        "colab": {
          "base_uri": "https://localhost:8080/"
        },
        "id": "tWEyTTMOYtwz",
        "outputId": "6106f60b-d35d-4abd-d0ce-ab441c229625"
      },
      "execution_count": null,
      "outputs": [
        {
          "output_type": "stream",
          "name": "stdout",
          "text": [
            "\u001b[1m4/4\u001b[0m \u001b[32m━━━━━━━━━━━━━━━━━━━━\u001b[0m\u001b[37m\u001b[0m \u001b[1m3s\u001b[0m 713ms/step - accuracy: 0.9991 - dice_score: 0.8230 - loss: 0.3289 - mean_io_u: 0.9262 - ppv: 0.7180\n",
            "Validation Loss: 0.32872292399406433\n",
            "Validation Accuracy: 0.9990703463554382\n",
            "Validation Mean IoU: 0.9280261993408203\n",
            "Validation Dice Score: 0.8252043128013611\n",
            "Validation PPV (Precision): 0.7213262915611267\n"
          ]
        }
      ]
    }
  ]
}